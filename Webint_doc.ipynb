{
 "cells": [
  {
   "cell_type": "markdown",
   "metadata": {},
   "source": [
    "# WEBINT DOCs"
   ]
  },
  {
   "cell_type": "markdown",
   "metadata": {},
   "source": [
    "## Browser ⇢ Server \n",
    "--------------------\n",
    "```yaml\n",
    "{ \"command\":\"<command>\",\n",
    "args:\n",
    "    {\"key1\":\"value1\", \"key2\":\"value2\", ...}\n",
    "}\n",
    "```\n",
    "\n",
    "### WSGI Server-side endpoints\n",
    "\n",
    "| Route | Function | Data format |\n",
    "|----|---|----|\n",
    "| `/` | start() | `session` from URL query part. |\n",
    "| `/<filename>` | show_html() | `filename` |\n",
    "| `/static/<filename>` | serv_static() | `filename` |\n",
    "|`/next` |next() | Parameters obtained from the query part of the URL (everything in between ? and #). Parameters `session` and `counter`. |\n",
    "| `/readoutput` | readoutput() | Parameters `session` and `block` (block number) from URL query part. |\n",
    "| `/xml/edit/<command_n>` | edit_xml() | `command_n` used as block/command counter. |\n",
    "\n"
   ]
  },
  {
   "cell_type": "markdown",
   "metadata": {},
   "source": [
    "## Server ⇢ Browser\n",
    "---------\n",
    "\n",
    "### WSGI\n",
    "\n",
    "**Format 1**\n",
    " ```json \n",
    "{'stdout':stdout, 'stderr':stderr, 'next': next_block, 'counter': counter}\n",
    "```\n",
    "\n",
    "### Server-side endpoints\n",
    " \n",
    " \n",
    "\n",
    "| Function | Return format | Return value discripion |\n",
    "|--------|------|----|\n",
    "| attachSession()  | html |  File `$html_base` from `$web_folder` with javscript attached. |\n",
    "| startSession() | html | File `start_session.html` from `$web_folder` folder with placeholder SESSION replaced with session ID. |\n",
    "| show_html(filename) | html | File from `$web_folder`. |\n",
    "| serv_static(filename) | html | File from `$static_folder`. |\n",
    "| next()  | html | File `$html_base` from `$web_folder` or html block from getNext() with javscript lines inside `<script>` tag attached.  |\n",
    "| readoutput() | html | Contents of file `output_NNN.txt` from session folder with javascript attached. <br/> *Note: `html_safe()` applied to file contents in `readOutputFile()`.* |\n",
    "| edit_xml() | Format 1 | Updated XML file contents in stdout. |\n",
    "| returnError() | Format 1 | Error infromation in stderr. |\n",
    "\n",
    " "
   ]
  },
  {
   "cell_type": "markdown",
   "metadata": {},
   "source": [
    "### WebSocker\n",
    "\n",
    "```python\n",
    "ws.send(html_safe(line))\n",
    "...\n",
    "we.send(\"#NEXT\"+next_block)\n",
    "```"
   ]
  },
  {
   "cell_type": "markdown",
   "metadata": {
    "raw_mimetype": "text/markdown"
   },
   "source": [
    "### TODO\n",
    "   \n",
    "    [x] Unification of WSGI replies\n",
    "        Most functions must return <div> blocks to append to <body>.\n",
    "    [x] Unification of WS replies\n",
    "        Only one function/root (/exe) uses web sockets.\n",
    "    [ ] Use Tornado instead of Bottle with WS only (no WSGI)?\n"
   ]
  },
  {
   "cell_type": "markdown",
   "metadata": {},
   "source": [
    "## Configuration Script\n",
    "-------------------\n",
    "```yaml\n",
    "html: <block file>\n",
    "scenario: <scenario command: NEXT/PART/STOP>\n",
    "command: <command: /#XML/#SETVARS/#SHUTDOWN/#NEXT...>\n",
    "allowed_vars: \n",
    "   VAR1: <default value>\n",
    "   VAR2: ...\n",
    "filepath: <path>\n",
    "url: <URL>\n",
    "discription: <discription text>\n",
    "comment: <comment>\n",
    "```\n",
    "\n",
    "`command` is used in exe() and edit_xml() functions to get command from block counter.</br>\n",
    "\n",
    "`url` is used in getNext() to replace \"RE_URL\" placeholder in html block. \n",
    "Only redirect_block uses \"RE_URL\" placeholder and it is replaced with URL for redirection.<br/>\n",
    "\n",
    "`allowed_vars` should be set for #SETVARS command.<br/>\n",
    "`filepath` must be set for #XML command."
   ]
  },
  {
   "cell_type": "code",
   "execution_count": null,
   "metadata": {
    "collapsed": true
   },
   "outputs": [],
   "source": []
  }
 ],
 "metadata": {
  "celltoolbar": "Raw Cell Format",
  "kernelspec": {
   "display_name": "Python 2",
   "language": "python",
   "name": "python2"
  },
  "language_info": {
   "codemirror_mode": {
    "name": "ipython",
    "version": 2
   },
   "file_extension": ".py",
   "mimetype": "text/x-python",
   "name": "python",
   "nbconvert_exporter": "python",
   "pygments_lexer": "ipython2",
   "version": "2.7.12"
  }
 },
 "nbformat": 4,
 "nbformat_minor": 0
}
