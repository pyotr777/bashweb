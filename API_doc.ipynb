{
 "cells": [
  {
   "cell_type": "markdown",
   "metadata": {},
   "source": [
    "# WEBINT APIs"
   ]
  },
  {
   "cell_type": "markdown",
   "metadata": {},
   "source": [
    "## Browser - Server"
   ]
  },
  {
   "cell_type": "markdown",
   "metadata": {},
   "source": [
    "```\n",
    "{ \"command\":\"<command>\",\n",
    "args:\n",
    "    {\"key1\":\"value1\", \"key2\":\"value2\", ...}\n",
    "}\n",
    "```"
   ]
  },
  {
   "cell_type": "markdown",
   "metadata": {},
   "source": [
    "## Server - Browser"
   ]
  },
  {
   "cell_type": "markdown",
   "metadata": {},
   "source": [
    " `{ 'stdout':stdout, 'stderr':stderr, 'next': next_block, 'counter': counter}`"
   ]
  },
  {
   "cell_type": "markdown",
   "metadata": {},
   "source": [
    "## Configuration Script"
   ]
  },
  {
   "cell_type": "markdown",
   "metadata": {},
   "source": [
    "```\n",
    "html: <block file>\n",
    "scenario: <scenario command: NEXT/PART/STOP>\n",
    "command: <command: /#XML/#SETVARS/#SHUTDOWN/...>\n",
    "allowed_vars: \n",
    "   VAR1: <default value>\n",
    "   VAR2: ...\n",
    "filepath: <path>\n",
    "discription: <discription text>\n",
    "```\n",
    "\n",
    "`allowed_vars` should be set for #SETVARS command.\n",
    "`filepath` must be set for #XML command."
   ]
  },
  {
   "cell_type": "code",
   "execution_count": null,
   "metadata": {
    "collapsed": true
   },
   "outputs": [],
   "source": []
  }
 ],
 "metadata": {
  "celltoolbar": "Raw Cell Format",
  "kernelspec": {
   "display_name": "Python 2",
   "language": "python",
   "name": "python2"
  },
  "language_info": {
   "codemirror_mode": {
    "name": "ipython",
    "version": 2
   },
   "file_extension": ".py",
   "mimetype": "text/x-python",
   "name": "python",
   "nbconvert_exporter": "python",
   "pygments_lexer": "ipython2",
   "version": "2.7.12"
  }
 },
 "nbformat": 4,
 "nbformat_minor": 0
}
