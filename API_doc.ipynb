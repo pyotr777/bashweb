{
 "cells": [
  {
   "cell_type": "markdown",
   "metadata": {},
   "source": [
    "# WEBINT APIs"
   ]
  },
  {
   "cell_type": "markdown",
   "metadata": {},
   "source": [
    "## Browser ⇢ Server \n",
    "--------------------\n",
    "```yaml\n",
    "{ \"command\":\"<command>\",\n",
    "args:\n",
    "    {\"key1\":\"value1\", \"key2\":\"value2\", ...}\n",
    "}\n",
    "```"
   ]
  },
  {
   "cell_type": "markdown",
   "metadata": {},
   "source": [
    "## Server ⇢ Browser\n",
    "---------\n",
    "\n",
    "### WSGI\n",
    " ```json \n",
    " { 'stdout':stdout, 'stderr':stderr, 'next': next_block, 'counter': counter}```"
   ]
  },
  {
   "cell_type": "markdown",
   "metadata": {},
   "source": [
    "### WebSocker\n",
    "\n",
    "```python\n",
    "ws.send(line)\n",
    "...\n",
    "we.send(\"#NEXT\"+next_block)\n",
    "```"
   ]
  },
  {
   "cell_type": "markdown",
   "metadata": {
    "raw_mimetype": "text/markdown"
   },
   "source": [
    "### TODO\n",
    "    \n",
    "    [ ] Unification of WSGI replys\n",
    "    [ ] Unification of WS replys\n",
    "    [ ] Use Tornado instead of Bottle with WS only (no WSGI)?\n"
   ]
  },
  {
   "cell_type": "markdown",
   "metadata": {},
   "source": [
    "## Configuration Script\n",
    "-------------------\n",
    "```yaml\n",
    "html: <block file>\n",
    "scenario: <scenario command: NEXT/PART/STOP>\n",
    "command: <command: /#XML/#SETVARS/#SHUTDOWN/#NEXT...>\n",
    "allowed_vars: \n",
    "   VAR1: <default value>\n",
    "   VAR2: ...\n",
    "filepath: <path>\n",
    "discription: <discription text>\n",
    "```\n",
    "\n",
    "\n",
    "`allowed_vars` should be set for #SETVARS command.<br/>\n",
    "`filepath` must be set for #XML command."
   ]
  }
 ],
 "metadata": {
  "celltoolbar": "Raw Cell Format",
  "kernelspec": {
   "display_name": "Python 2",
   "language": "python",
   "name": "python2"
  },
  "language_info": {
   "codemirror_mode": {
    "name": "ipython",
    "version": 2
   },
   "file_extension": ".py",
   "mimetype": "text/x-python",
   "name": "python",
   "nbconvert_exporter": "python",
   "pygments_lexer": "ipython2",
   "version": "2.7.12"
  }
 },
 "nbformat": 4,
 "nbformat_minor": 0
}
